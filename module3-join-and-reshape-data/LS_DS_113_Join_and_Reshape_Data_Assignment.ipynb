{
  "nbformat": 4,
  "nbformat_minor": 0,
  "metadata": {
    "colab": {
      "name": "LS_DS_113_Join_and_Reshape_Data_Assignment.ipynb",
      "provenance": [],
      "collapsed_sections": [],
      "include_colab_link": true
    },
    "kernelspec": {
      "display_name": "Python 3",
      "language": "python",
      "name": "python3"
    }
  },
  "cells": [
    {
      "cell_type": "markdown",
      "metadata": {
        "id": "view-in-github",
        "colab_type": "text"
      },
      "source": [
        "<a href=\"https://colab.research.google.com/github/DRodriguez615/DS-Unit-1-Sprint-1-Data-Wrangling-and-Storytelling/blob/master/module3-join-and-reshape-data/LS_DS_113_Join_and_Reshape_Data_Assignment.ipynb\" target=\"_parent\"><img src=\"https://colab.research.google.com/assets/colab-badge.svg\" alt=\"Open In Colab\"/></a>"
      ]
    },
    {
      "cell_type": "markdown",
      "metadata": {
        "colab_type": "text",
        "id": "pmU5YUal1eTZ"
      },
      "source": [
        "Lambda School Data Science\n",
        "\n",
        "*Unit 1, Sprint 1, Module 3*\n",
        "\n",
        "---\n",
        "\n",
        "# Join and Reshape datasets\n",
        "\n",
        "Objectives\n",
        "- concatenate data with pandas\n",
        "- merge data with pandas\n",
        "-  understand tidy data formatting\n",
        "-  melt and pivot data with pandas\n",
        "\n",
        "Links\n",
        "- [Pandas Cheat Sheet](https://github.com/pandas-dev/pandas/blob/master/doc/cheatsheet/Pandas_Cheat_Sheet.pdf)\n",
        "- [Tidy Data](https://en.wikipedia.org/wiki/Tidy_data)\n",
        "  - Combine Data Sets: Standard Joins\n",
        "  - Tidy Data\n",
        "  - Reshaping Data\n",
        "- Python Data Science Handbook\n",
        "  - [Chapter 3.6](https://jakevdp.github.io/PythonDataScienceHandbook/03.06-concat-and-append.html), Combining Datasets: Concat and Append\n",
        "  - [Chapter 3.7](https://jakevdp.github.io/PythonDataScienceHandbook/03.07-merge-and-join.html), Combining Datasets: Merge and Join\n",
        "  - [Chapter 3.8](https://jakevdp.github.io/PythonDataScienceHandbook/03.08-aggregation-and-grouping.html), Aggregation and Grouping\n",
        "  - [Chapter 3.9](https://jakevdp.github.io/PythonDataScienceHandbook/03.09-pivot-tables.html), Pivot Tables\n",
        "  \n",
        "Reference\n",
        "- Pandas Documentation: [Reshaping and Pivot Tables](https://pandas.pydata.org/pandas-docs/stable/reshaping.html)\n",
        "- Modern Pandas, Part 5: [Tidy Data](https://tomaugspurger.github.io/modern-5-tidy.html)"
      ]
    },
    {
      "cell_type": "code",
      "metadata": {
        "id": "5MsWLLW4Xg_i",
        "colab_type": "code",
        "outputId": "a36cc540-fac4-4b58-fca8-14417c00ea37",
        "colab": {
          "base_uri": "https://localhost:8080/",
          "height": 204
        }
      },
      "source": [
        "!wget https://s3.amazonaws.com/instacart-datasets/instacart_online_grocery_shopping_2017_05_01.tar.gz"
      ],
      "execution_count": 0,
      "outputs": [
        {
          "output_type": "stream",
          "text": [
            "--2019-11-06 04:43:19--  https://s3.amazonaws.com/instacart-datasets/instacart_online_grocery_shopping_2017_05_01.tar.gz\n",
            "Resolving s3.amazonaws.com (s3.amazonaws.com)... 52.217.8.142\n",
            "Connecting to s3.amazonaws.com (s3.amazonaws.com)|52.217.8.142|:443... connected.\n",
            "HTTP request sent, awaiting response... 200 OK\n",
            "Length: 205548478 (196M) [application/x-gzip]\n",
            "Saving to: ‘instacart_online_grocery_shopping_2017_05_01.tar.gz.1’\n",
            "\n",
            "instacart_online_gr 100%[===================>] 196.03M  95.2MB/s    in 2.1s    \n",
            "\n",
            "2019-11-06 04:43:21 (95.2 MB/s) - ‘instacart_online_grocery_shopping_2017_05_01.tar.gz.1’ saved [205548478/205548478]\n",
            "\n"
          ],
          "name": "stdout"
        }
      ]
    },
    {
      "cell_type": "code",
      "metadata": {
        "id": "gfr4_Ya0XkLI",
        "colab_type": "code",
        "outputId": "9c9a5fa6-0554-4cdd-8cd0-7b0fea1a93d0",
        "colab": {
          "base_uri": "https://localhost:8080/",
          "height": 238
        }
      },
      "source": [
        "!tar --gunzip --extract --verbose --file=instacart_online_grocery_shopping_2017_05_01.tar.gz"
      ],
      "execution_count": 0,
      "outputs": [
        {
          "output_type": "stream",
          "text": [
            "instacart_2017_05_01/\n",
            "instacart_2017_05_01/._aisles.csv\n",
            "instacart_2017_05_01/aisles.csv\n",
            "instacart_2017_05_01/._departments.csv\n",
            "instacart_2017_05_01/departments.csv\n",
            "instacart_2017_05_01/._order_products__prior.csv\n",
            "instacart_2017_05_01/order_products__prior.csv\n",
            "instacart_2017_05_01/._order_products__train.csv\n",
            "instacart_2017_05_01/order_products__train.csv\n",
            "instacart_2017_05_01/._orders.csv\n",
            "instacart_2017_05_01/orders.csv\n",
            "instacart_2017_05_01/._products.csv\n",
            "instacart_2017_05_01/products.csv\n"
          ],
          "name": "stdout"
        }
      ]
    },
    {
      "cell_type": "code",
      "metadata": {
        "id": "N4YyGPNdXrT0",
        "colab_type": "code",
        "outputId": "1590d8cf-fc5c-43a8-8e46-42e8ca15d11f",
        "colab": {
          "base_uri": "https://localhost:8080/",
          "height": 34
        }
      },
      "source": [
        "%cd instacart_2017_05_01"
      ],
      "execution_count": 0,
      "outputs": [
        {
          "output_type": "stream",
          "text": [
            "/content/instacart_2017_05_01\n"
          ],
          "name": "stdout"
        }
      ]
    },
    {
      "cell_type": "code",
      "metadata": {
        "id": "b26wmLUiXtlM",
        "colab_type": "code",
        "outputId": "d6e7380e-de19-406d-accb-f8452bf74ca4",
        "colab": {
          "base_uri": "https://localhost:8080/",
          "height": 119
        }
      },
      "source": [
        "!ls -lh *.csv"
      ],
      "execution_count": 0,
      "outputs": [
        {
          "output_type": "stream",
          "text": [
            "-rw-r--r-- 1 502 staff 2.6K May  2  2017 aisles.csv\n",
            "-rw-r--r-- 1 502 staff  270 May  2  2017 departments.csv\n",
            "-rw-r--r-- 1 502 staff 551M May  2  2017 order_products__prior.csv\n",
            "-rw-r--r-- 1 502 staff  24M May  2  2017 order_products__train.csv\n",
            "-rw-r--r-- 1 502 staff 104M May  2  2017 orders.csv\n",
            "-rw-r--r-- 1 502 staff 2.1M May  2  2017 products.csv\n"
          ],
          "name": "stdout"
        }
      ]
    },
    {
      "cell_type": "markdown",
      "metadata": {
        "colab_type": "text",
        "id": "kAMtvSQWPUcj"
      },
      "source": [
        "# Assignment\n",
        "\n",
        "## Join Data Practice\n",
        "\n",
        "These are the top 10 most frequently ordered products. How many times was each ordered? \n",
        "\n",
        "1. Banana\n",
        "2. Bag of Organic Bananas\n",
        "3. Organic Strawberries\n",
        "4. Organic Baby Spinach \n",
        "5. Organic Hass Avocado\n",
        "6. Organic Avocado\n",
        "7. Large Lemon \n",
        "8. Strawberries\n",
        "9. Limes \n",
        "10. Organic Whole Milk\n",
        "\n",
        "First, write down which columns you need and which dataframes have them.\n",
        "\n",
        "Next, merge these into a single dataframe.\n",
        "\n",
        "Then, use pandas functions from the previous lesson to get the counts of the top 10 most frequently ordered products."
      ]
    },
    {
      "cell_type": "code",
      "metadata": {
        "id": "vvE0EVHgXMFO",
        "colab_type": "code",
        "colab": {}
      },
      "source": [
        "import matplotlib.pyplot as plt\n",
        "%matplotlib inline\n",
        "import pandas as pd\n",
        "import numpy as np\n",
        "import seaborn as sns"
      ],
      "execution_count": 0,
      "outputs": []
    },
    {
      "cell_type": "code",
      "metadata": {
        "id": "bEIhDr6ljUiN",
        "colab_type": "code",
        "colab": {}
      },
      "source": [
        "# Dont Need this \n",
        "aisles = pd.read_csv('aisles.csv')\n",
        "print(aisles.shape)\n",
        "aisles.head()"
      ],
      "execution_count": 0,
      "outputs": []
    },
    {
      "cell_type": "code",
      "metadata": {
        "id": "bdjAh0KVjUaa",
        "colab_type": "code",
        "colab": {}
      },
      "source": [
        "# dont need\n",
        "departments = pd.read_csv('departments.csv')\n",
        "print(departments.shape)\n",
        "departments.head()"
      ],
      "execution_count": 0,
      "outputs": []
    },
    {
      "cell_type": "code",
      "metadata": {
        "id": "W9h_64PlfHn1",
        "colab_type": "code",
        "outputId": "8ea4f9d5-8f0e-461c-aadb-0fbb634401cc",
        "colab": {
          "base_uri": "https://localhost:8080/",
          "height": 221
        }
      },
      "source": [
        "order_products_prior = pd.read_csv('order_products__prior.csv')\n",
        "print(order_products_prior.shape)\n",
        "order_products_prior.head()"
      ],
      "execution_count": 0,
      "outputs": [
        {
          "output_type": "stream",
          "text": [
            "(32434489, 4)\n"
          ],
          "name": "stdout"
        },
        {
          "output_type": "execute_result",
          "data": {
            "text/html": [
              "<div>\n",
              "<style scoped>\n",
              "    .dataframe tbody tr th:only-of-type {\n",
              "        vertical-align: middle;\n",
              "    }\n",
              "\n",
              "    .dataframe tbody tr th {\n",
              "        vertical-align: top;\n",
              "    }\n",
              "\n",
              "    .dataframe thead th {\n",
              "        text-align: right;\n",
              "    }\n",
              "</style>\n",
              "<table border=\"1\" class=\"dataframe\">\n",
              "  <thead>\n",
              "    <tr style=\"text-align: right;\">\n",
              "      <th></th>\n",
              "      <th>order_id</th>\n",
              "      <th>product_id</th>\n",
              "      <th>add_to_cart_order</th>\n",
              "      <th>reordered</th>\n",
              "    </tr>\n",
              "  </thead>\n",
              "  <tbody>\n",
              "    <tr>\n",
              "      <th>0</th>\n",
              "      <td>2</td>\n",
              "      <td>33120</td>\n",
              "      <td>1</td>\n",
              "      <td>1</td>\n",
              "    </tr>\n",
              "    <tr>\n",
              "      <th>1</th>\n",
              "      <td>2</td>\n",
              "      <td>28985</td>\n",
              "      <td>2</td>\n",
              "      <td>1</td>\n",
              "    </tr>\n",
              "    <tr>\n",
              "      <th>2</th>\n",
              "      <td>2</td>\n",
              "      <td>9327</td>\n",
              "      <td>3</td>\n",
              "      <td>0</td>\n",
              "    </tr>\n",
              "    <tr>\n",
              "      <th>3</th>\n",
              "      <td>2</td>\n",
              "      <td>45918</td>\n",
              "      <td>4</td>\n",
              "      <td>1</td>\n",
              "    </tr>\n",
              "    <tr>\n",
              "      <th>4</th>\n",
              "      <td>2</td>\n",
              "      <td>30035</td>\n",
              "      <td>5</td>\n",
              "      <td>0</td>\n",
              "    </tr>\n",
              "  </tbody>\n",
              "</table>\n",
              "</div>"
            ],
            "text/plain": [
              "   order_id  product_id  add_to_cart_order  reordered\n",
              "0         2       33120                  1          1\n",
              "1         2       28985                  2          1\n",
              "2         2        9327                  3          0\n",
              "3         2       45918                  4          1\n",
              "4         2       30035                  5          0"
            ]
          },
          "metadata": {
            "tags": []
          },
          "execution_count": 8
        }
      ]
    },
    {
      "cell_type": "code",
      "metadata": {
        "id": "ev9yxvPciIlW",
        "colab_type": "code",
        "outputId": "8b1d84d2-4230-4f41-9f28-2ce41ea5d4ce",
        "colab": {
          "base_uri": "https://localhost:8080/",
          "height": 376
        }
      },
      "source": [
        "order_products_train = pd.read_csv('order_products__train.csv')\n",
        "print(order_products_train.shape)\n",
        "order_products_train.head()"
      ],
      "execution_count": 0,
      "outputs": [
        {
          "output_type": "stream",
          "text": [
            "(1384617, 4)\n"
          ],
          "name": "stdout"
        },
        {
          "output_type": "execute_result",
          "data": {
            "text/html": [
              "<div>\n",
              "<style scoped>\n",
              "    .dataframe tbody tr th:only-of-type {\n",
              "        vertical-align: middle;\n",
              "    }\n",
              "\n",
              "    .dataframe tbody tr th {\n",
              "        vertical-align: top;\n",
              "    }\n",
              "\n",
              "    .dataframe thead th {\n",
              "        text-align: right;\n",
              "    }\n",
              "</style>\n",
              "<table border=\"1\" class=\"dataframe\">\n",
              "  <thead>\n",
              "    <tr style=\"text-align: right;\">\n",
              "      <th></th>\n",
              "      <th>order_id</th>\n",
              "      <th>product_id</th>\n",
              "      <th>add_to_cart_order</th>\n",
              "      <th>reordered</th>\n",
              "    </tr>\n",
              "  </thead>\n",
              "  <tbody>\n",
              "    <tr>\n",
              "      <th>0</th>\n",
              "      <td>1</td>\n",
              "      <td>49302</td>\n",
              "      <td>1</td>\n",
              "      <td>1</td>\n",
              "    </tr>\n",
              "    <tr>\n",
              "      <th>1</th>\n",
              "      <td>1</td>\n",
              "      <td>11109</td>\n",
              "      <td>2</td>\n",
              "      <td>1</td>\n",
              "    </tr>\n",
              "    <tr>\n",
              "      <th>2</th>\n",
              "      <td>1</td>\n",
              "      <td>10246</td>\n",
              "      <td>3</td>\n",
              "      <td>0</td>\n",
              "    </tr>\n",
              "    <tr>\n",
              "      <th>3</th>\n",
              "      <td>1</td>\n",
              "      <td>49683</td>\n",
              "      <td>4</td>\n",
              "      <td>0</td>\n",
              "    </tr>\n",
              "    <tr>\n",
              "      <th>4</th>\n",
              "      <td>1</td>\n",
              "      <td>43633</td>\n",
              "      <td>5</td>\n",
              "      <td>1</td>\n",
              "    </tr>\n",
              "    <tr>\n",
              "      <th>5</th>\n",
              "      <td>1</td>\n",
              "      <td>13176</td>\n",
              "      <td>6</td>\n",
              "      <td>0</td>\n",
              "    </tr>\n",
              "    <tr>\n",
              "      <th>6</th>\n",
              "      <td>1</td>\n",
              "      <td>47209</td>\n",
              "      <td>7</td>\n",
              "      <td>0</td>\n",
              "    </tr>\n",
              "    <tr>\n",
              "      <th>7</th>\n",
              "      <td>1</td>\n",
              "      <td>22035</td>\n",
              "      <td>8</td>\n",
              "      <td>1</td>\n",
              "    </tr>\n",
              "    <tr>\n",
              "      <th>8</th>\n",
              "      <td>36</td>\n",
              "      <td>39612</td>\n",
              "      <td>1</td>\n",
              "      <td>0</td>\n",
              "    </tr>\n",
              "    <tr>\n",
              "      <th>9</th>\n",
              "      <td>36</td>\n",
              "      <td>19660</td>\n",
              "      <td>2</td>\n",
              "      <td>1</td>\n",
              "    </tr>\n",
              "  </tbody>\n",
              "</table>\n",
              "</div>"
            ],
            "text/plain": [
              "   order_id  product_id  add_to_cart_order  reordered\n",
              "0         1       49302                  1          1\n",
              "1         1       11109                  2          1\n",
              "2         1       10246                  3          0\n",
              "3         1       49683                  4          0\n",
              "4         1       43633                  5          1\n",
              "5         1       13176                  6          0\n",
              "6         1       47209                  7          0\n",
              "7         1       22035                  8          1\n",
              "8        36       39612                  1          0\n",
              "9        36       19660                  2          1"
            ]
          },
          "metadata": {
            "tags": []
          },
          "execution_count": 66
        }
      ]
    },
    {
      "cell_type": "code",
      "metadata": {
        "id": "hwng-7cNiIiX",
        "colab_type": "code",
        "outputId": "07bb2151-a28a-42a6-f0dd-b5a77ad51094",
        "colab": {
          "base_uri": "https://localhost:8080/",
          "height": 221
        }
      },
      "source": [
        "orders = pd.read_csv('orders.csv')\n",
        "print(orders.shape)\n",
        "orders.head()"
      ],
      "execution_count": 0,
      "outputs": [
        {
          "output_type": "stream",
          "text": [
            "(3421083, 7)\n"
          ],
          "name": "stdout"
        },
        {
          "output_type": "execute_result",
          "data": {
            "text/html": [
              "<div>\n",
              "<style scoped>\n",
              "    .dataframe tbody tr th:only-of-type {\n",
              "        vertical-align: middle;\n",
              "    }\n",
              "\n",
              "    .dataframe tbody tr th {\n",
              "        vertical-align: top;\n",
              "    }\n",
              "\n",
              "    .dataframe thead th {\n",
              "        text-align: right;\n",
              "    }\n",
              "</style>\n",
              "<table border=\"1\" class=\"dataframe\">\n",
              "  <thead>\n",
              "    <tr style=\"text-align: right;\">\n",
              "      <th></th>\n",
              "      <th>order_id</th>\n",
              "      <th>user_id</th>\n",
              "      <th>eval_set</th>\n",
              "      <th>order_number</th>\n",
              "      <th>order_dow</th>\n",
              "      <th>order_hour_of_day</th>\n",
              "      <th>days_since_prior_order</th>\n",
              "    </tr>\n",
              "  </thead>\n",
              "  <tbody>\n",
              "    <tr>\n",
              "      <th>0</th>\n",
              "      <td>2539329</td>\n",
              "      <td>1</td>\n",
              "      <td>prior</td>\n",
              "      <td>1</td>\n",
              "      <td>2</td>\n",
              "      <td>8</td>\n",
              "      <td>NaN</td>\n",
              "    </tr>\n",
              "    <tr>\n",
              "      <th>1</th>\n",
              "      <td>2398795</td>\n",
              "      <td>1</td>\n",
              "      <td>prior</td>\n",
              "      <td>2</td>\n",
              "      <td>3</td>\n",
              "      <td>7</td>\n",
              "      <td>15.0</td>\n",
              "    </tr>\n",
              "    <tr>\n",
              "      <th>2</th>\n",
              "      <td>473747</td>\n",
              "      <td>1</td>\n",
              "      <td>prior</td>\n",
              "      <td>3</td>\n",
              "      <td>3</td>\n",
              "      <td>12</td>\n",
              "      <td>21.0</td>\n",
              "    </tr>\n",
              "    <tr>\n",
              "      <th>3</th>\n",
              "      <td>2254736</td>\n",
              "      <td>1</td>\n",
              "      <td>prior</td>\n",
              "      <td>4</td>\n",
              "      <td>4</td>\n",
              "      <td>7</td>\n",
              "      <td>29.0</td>\n",
              "    </tr>\n",
              "    <tr>\n",
              "      <th>4</th>\n",
              "      <td>431534</td>\n",
              "      <td>1</td>\n",
              "      <td>prior</td>\n",
              "      <td>5</td>\n",
              "      <td>4</td>\n",
              "      <td>15</td>\n",
              "      <td>28.0</td>\n",
              "    </tr>\n",
              "  </tbody>\n",
              "</table>\n",
              "</div>"
            ],
            "text/plain": [
              "   order_id  user_id  ... order_hour_of_day  days_since_prior_order\n",
              "0   2539329        1  ...                 8                     NaN\n",
              "1   2398795        1  ...                 7                    15.0\n",
              "2    473747        1  ...                12                    21.0\n",
              "3   2254736        1  ...                 7                    29.0\n",
              "4    431534        1  ...                15                    28.0\n",
              "\n",
              "[5 rows x 7 columns]"
            ]
          },
          "metadata": {
            "tags": []
          },
          "execution_count": 11
        }
      ]
    },
    {
      "cell_type": "code",
      "metadata": {
        "id": "Z4gkPdAAkdID",
        "colab_type": "code",
        "outputId": "8d5d9fcd-60bf-4c80-be36-de0c66793a55",
        "colab": {
          "base_uri": "https://localhost:8080/",
          "height": 221
        }
      },
      "source": [
        "products = pd.read_csv('products.csv')\n",
        "print(products.shape)\n",
        "products.head()"
      ],
      "execution_count": 0,
      "outputs": [
        {
          "output_type": "stream",
          "text": [
            "(49688, 4)\n"
          ],
          "name": "stdout"
        },
        {
          "output_type": "execute_result",
          "data": {
            "text/html": [
              "<div>\n",
              "<style scoped>\n",
              "    .dataframe tbody tr th:only-of-type {\n",
              "        vertical-align: middle;\n",
              "    }\n",
              "\n",
              "    .dataframe tbody tr th {\n",
              "        vertical-align: top;\n",
              "    }\n",
              "\n",
              "    .dataframe thead th {\n",
              "        text-align: right;\n",
              "    }\n",
              "</style>\n",
              "<table border=\"1\" class=\"dataframe\">\n",
              "  <thead>\n",
              "    <tr style=\"text-align: right;\">\n",
              "      <th></th>\n",
              "      <th>product_id</th>\n",
              "      <th>product_name</th>\n",
              "      <th>aisle_id</th>\n",
              "      <th>department_id</th>\n",
              "    </tr>\n",
              "  </thead>\n",
              "  <tbody>\n",
              "    <tr>\n",
              "      <th>0</th>\n",
              "      <td>1</td>\n",
              "      <td>Chocolate Sandwich Cookies</td>\n",
              "      <td>61</td>\n",
              "      <td>19</td>\n",
              "    </tr>\n",
              "    <tr>\n",
              "      <th>1</th>\n",
              "      <td>2</td>\n",
              "      <td>All-Seasons Salt</td>\n",
              "      <td>104</td>\n",
              "      <td>13</td>\n",
              "    </tr>\n",
              "    <tr>\n",
              "      <th>2</th>\n",
              "      <td>3</td>\n",
              "      <td>Robust Golden Unsweetened Oolong Tea</td>\n",
              "      <td>94</td>\n",
              "      <td>7</td>\n",
              "    </tr>\n",
              "    <tr>\n",
              "      <th>3</th>\n",
              "      <td>4</td>\n",
              "      <td>Smart Ones Classic Favorites Mini Rigatoni Wit...</td>\n",
              "      <td>38</td>\n",
              "      <td>1</td>\n",
              "    </tr>\n",
              "    <tr>\n",
              "      <th>4</th>\n",
              "      <td>5</td>\n",
              "      <td>Green Chile Anytime Sauce</td>\n",
              "      <td>5</td>\n",
              "      <td>13</td>\n",
              "    </tr>\n",
              "  </tbody>\n",
              "</table>\n",
              "</div>"
            ],
            "text/plain": [
              "   product_id  ... department_id\n",
              "0           1  ...            19\n",
              "1           2  ...            13\n",
              "2           3  ...             7\n",
              "3           4  ...             1\n",
              "4           5  ...            13\n",
              "\n",
              "[5 rows x 4 columns]"
            ]
          },
          "metadata": {
            "tags": []
          },
          "execution_count": 12
        }
      ]
    },
    {
      "cell_type": "code",
      "metadata": {
        "id": "oQfa9In2tZog",
        "colab_type": "code",
        "outputId": "2243416f-81e4-462f-fced-6448bae65876",
        "colab": {
          "base_uri": "https://localhost:8080/",
          "height": 221
        }
      },
      "source": [
        "# put the two order products datasets together\n",
        "order_products = pd.concat([order_products_prior, order_products_train])\n",
        "print(order_products.shape)\n",
        "order_products.head()"
      ],
      "execution_count": 0,
      "outputs": [
        {
          "output_type": "stream",
          "text": [
            "(33819106, 4)\n"
          ],
          "name": "stdout"
        },
        {
          "output_type": "execute_result",
          "data": {
            "text/html": [
              "<div>\n",
              "<style scoped>\n",
              "    .dataframe tbody tr th:only-of-type {\n",
              "        vertical-align: middle;\n",
              "    }\n",
              "\n",
              "    .dataframe tbody tr th {\n",
              "        vertical-align: top;\n",
              "    }\n",
              "\n",
              "    .dataframe thead th {\n",
              "        text-align: right;\n",
              "    }\n",
              "</style>\n",
              "<table border=\"1\" class=\"dataframe\">\n",
              "  <thead>\n",
              "    <tr style=\"text-align: right;\">\n",
              "      <th></th>\n",
              "      <th>order_id</th>\n",
              "      <th>product_id</th>\n",
              "      <th>add_to_cart_order</th>\n",
              "      <th>reordered</th>\n",
              "    </tr>\n",
              "  </thead>\n",
              "  <tbody>\n",
              "    <tr>\n",
              "      <th>0</th>\n",
              "      <td>2</td>\n",
              "      <td>33120</td>\n",
              "      <td>1</td>\n",
              "      <td>1</td>\n",
              "    </tr>\n",
              "    <tr>\n",
              "      <th>1</th>\n",
              "      <td>2</td>\n",
              "      <td>28985</td>\n",
              "      <td>2</td>\n",
              "      <td>1</td>\n",
              "    </tr>\n",
              "    <tr>\n",
              "      <th>2</th>\n",
              "      <td>2</td>\n",
              "      <td>9327</td>\n",
              "      <td>3</td>\n",
              "      <td>0</td>\n",
              "    </tr>\n",
              "    <tr>\n",
              "      <th>3</th>\n",
              "      <td>2</td>\n",
              "      <td>45918</td>\n",
              "      <td>4</td>\n",
              "      <td>1</td>\n",
              "    </tr>\n",
              "    <tr>\n",
              "      <th>4</th>\n",
              "      <td>2</td>\n",
              "      <td>30035</td>\n",
              "      <td>5</td>\n",
              "      <td>0</td>\n",
              "    </tr>\n",
              "  </tbody>\n",
              "</table>\n",
              "</div>"
            ],
            "text/plain": [
              "   order_id  product_id  add_to_cart_order  reordered\n",
              "0         2       33120                  1          1\n",
              "1         2       28985                  2          1\n",
              "2         2        9327                  3          0\n",
              "3         2       45918                  4          1\n",
              "4         2       30035                  5          0"
            ]
          },
          "metadata": {
            "tags": []
          },
          "execution_count": 21
        }
      ]
    },
    {
      "cell_type": "code",
      "metadata": {
        "id": "ZaZrGJyeArrv",
        "colab_type": "code",
        "outputId": "53a0ed23-a378-40e6-81c4-822a65476a4a",
        "colab": {
          "base_uri": "https://localhost:8080/",
          "height": 204
        }
      },
      "source": [
        "# taking only the columns needed\n",
        "order_ids = order_products[['product_id', 'order_id', 'add_to_cart_order']]\n",
        "order_ids.head()"
      ],
      "execution_count": 0,
      "outputs": [
        {
          "output_type": "execute_result",
          "data": {
            "text/html": [
              "<div>\n",
              "<style scoped>\n",
              "    .dataframe tbody tr th:only-of-type {\n",
              "        vertical-align: middle;\n",
              "    }\n",
              "\n",
              "    .dataframe tbody tr th {\n",
              "        vertical-align: top;\n",
              "    }\n",
              "\n",
              "    .dataframe thead th {\n",
              "        text-align: right;\n",
              "    }\n",
              "</style>\n",
              "<table border=\"1\" class=\"dataframe\">\n",
              "  <thead>\n",
              "    <tr style=\"text-align: right;\">\n",
              "      <th></th>\n",
              "      <th>product_id</th>\n",
              "      <th>order_id</th>\n",
              "      <th>add_to_cart_order</th>\n",
              "    </tr>\n",
              "  </thead>\n",
              "  <tbody>\n",
              "    <tr>\n",
              "      <th>0</th>\n",
              "      <td>33120</td>\n",
              "      <td>2</td>\n",
              "      <td>1</td>\n",
              "    </tr>\n",
              "    <tr>\n",
              "      <th>1</th>\n",
              "      <td>28985</td>\n",
              "      <td>2</td>\n",
              "      <td>2</td>\n",
              "    </tr>\n",
              "    <tr>\n",
              "      <th>2</th>\n",
              "      <td>9327</td>\n",
              "      <td>2</td>\n",
              "      <td>3</td>\n",
              "    </tr>\n",
              "    <tr>\n",
              "      <th>3</th>\n",
              "      <td>45918</td>\n",
              "      <td>2</td>\n",
              "      <td>4</td>\n",
              "    </tr>\n",
              "    <tr>\n",
              "      <th>4</th>\n",
              "      <td>30035</td>\n",
              "      <td>2</td>\n",
              "      <td>5</td>\n",
              "    </tr>\n",
              "  </tbody>\n",
              "</table>\n",
              "</div>"
            ],
            "text/plain": [
              "   product_id  order_id  add_to_cart_order\n",
              "0       33120         2                  1\n",
              "1       28985         2                  2\n",
              "2        9327         2                  3\n",
              "3       45918         2                  4\n",
              "4       30035         2                  5"
            ]
          },
          "metadata": {
            "tags": []
          },
          "execution_count": 27
        }
      ]
    },
    {
      "cell_type": "code",
      "metadata": {
        "id": "4sLOrTz6xtbJ",
        "colab_type": "code",
        "outputId": "3ecd3b59-8622-4169-9830-a30e5bcdf813",
        "colab": {
          "base_uri": "https://localhost:8080/",
          "height": 204
        }
      },
      "source": [
        "# taking columns needed\n",
        "product_ids = products[['product_id', 'product_name']]\n",
        "product_ids.head()"
      ],
      "execution_count": 0,
      "outputs": [
        {
          "output_type": "execute_result",
          "data": {
            "text/html": [
              "<div>\n",
              "<style scoped>\n",
              "    .dataframe tbody tr th:only-of-type {\n",
              "        vertical-align: middle;\n",
              "    }\n",
              "\n",
              "    .dataframe tbody tr th {\n",
              "        vertical-align: top;\n",
              "    }\n",
              "\n",
              "    .dataframe thead th {\n",
              "        text-align: right;\n",
              "    }\n",
              "</style>\n",
              "<table border=\"1\" class=\"dataframe\">\n",
              "  <thead>\n",
              "    <tr style=\"text-align: right;\">\n",
              "      <th></th>\n",
              "      <th>product_id</th>\n",
              "      <th>product_name</th>\n",
              "    </tr>\n",
              "  </thead>\n",
              "  <tbody>\n",
              "    <tr>\n",
              "      <th>13175</th>\n",
              "      <td>13176</td>\n",
              "      <td>Bag of Organic Bananas</td>\n",
              "    </tr>\n",
              "    <tr>\n",
              "      <th>16796</th>\n",
              "      <td>16797</td>\n",
              "      <td>Strawberries</td>\n",
              "    </tr>\n",
              "    <tr>\n",
              "      <th>21136</th>\n",
              "      <td>21137</td>\n",
              "      <td>Organic Strawberries</td>\n",
              "    </tr>\n",
              "    <tr>\n",
              "      <th>21902</th>\n",
              "      <td>21903</td>\n",
              "      <td>Organic Baby Spinach</td>\n",
              "    </tr>\n",
              "    <tr>\n",
              "      <th>24851</th>\n",
              "      <td>24852</td>\n",
              "      <td>Banana</td>\n",
              "    </tr>\n",
              "  </tbody>\n",
              "</table>\n",
              "</div>"
            ],
            "text/plain": [
              "       product_id            product_name\n",
              "13175       13176  Bag of Organic Bananas\n",
              "16796       16797            Strawberries\n",
              "21136       21137    Organic Strawberries\n",
              "21902       21903    Organic Baby Spinach\n",
              "24851       24852                  Banana"
            ]
          },
          "metadata": {
            "tags": []
          },
          "execution_count": 23
        }
      ]
    },
    {
      "cell_type": "code",
      "metadata": {
        "id": "N87sDnCvisWJ",
        "colab_type": "code",
        "outputId": "91694005-bcf7-41d4-84cb-199e894ceb0a",
        "colab": {
          "base_uri": "https://localhost:8080/",
          "height": 376
        }
      },
      "source": [
        "# filtering what products we need in products getting the product id that we \n",
        "# need and setting it to a condition\n",
        "product_names = ['Banana',\n",
        "'Bag of Organic Bananas',\n",
        "'Organic Strawberries',\n",
        "'Organic Baby Spinach',\n",
        "'Organic Hass Avocado',\n",
        "'Organic Avocado',\n",
        "'Large Lemon',\n",
        "'Strawberries',\n",
        "'Limes',\n",
        "'Organic Whole Milk']\n",
        "condition = product_ids['product_name'].isin(product_names)\n",
        "products= product_ids[condition]\n",
        "print(products.shape)\n",
        "products"
      ],
      "execution_count": 0,
      "outputs": [
        {
          "output_type": "stream",
          "text": [
            "(10, 2)\n"
          ],
          "name": "stdout"
        },
        {
          "output_type": "execute_result",
          "data": {
            "text/html": [
              "<div>\n",
              "<style scoped>\n",
              "    .dataframe tbody tr th:only-of-type {\n",
              "        vertical-align: middle;\n",
              "    }\n",
              "\n",
              "    .dataframe tbody tr th {\n",
              "        vertical-align: top;\n",
              "    }\n",
              "\n",
              "    .dataframe thead th {\n",
              "        text-align: right;\n",
              "    }\n",
              "</style>\n",
              "<table border=\"1\" class=\"dataframe\">\n",
              "  <thead>\n",
              "    <tr style=\"text-align: right;\">\n",
              "      <th></th>\n",
              "      <th>product_id</th>\n",
              "      <th>product_name</th>\n",
              "    </tr>\n",
              "  </thead>\n",
              "  <tbody>\n",
              "    <tr>\n",
              "      <th>13175</th>\n",
              "      <td>13176</td>\n",
              "      <td>Bag of Organic Bananas</td>\n",
              "    </tr>\n",
              "    <tr>\n",
              "      <th>16796</th>\n",
              "      <td>16797</td>\n",
              "      <td>Strawberries</td>\n",
              "    </tr>\n",
              "    <tr>\n",
              "      <th>21136</th>\n",
              "      <td>21137</td>\n",
              "      <td>Organic Strawberries</td>\n",
              "    </tr>\n",
              "    <tr>\n",
              "      <th>21902</th>\n",
              "      <td>21903</td>\n",
              "      <td>Organic Baby Spinach</td>\n",
              "    </tr>\n",
              "    <tr>\n",
              "      <th>24851</th>\n",
              "      <td>24852</td>\n",
              "      <td>Banana</td>\n",
              "    </tr>\n",
              "    <tr>\n",
              "      <th>26208</th>\n",
              "      <td>26209</td>\n",
              "      <td>Limes</td>\n",
              "    </tr>\n",
              "    <tr>\n",
              "      <th>27844</th>\n",
              "      <td>27845</td>\n",
              "      <td>Organic Whole Milk</td>\n",
              "    </tr>\n",
              "    <tr>\n",
              "      <th>47208</th>\n",
              "      <td>47209</td>\n",
              "      <td>Organic Hass Avocado</td>\n",
              "    </tr>\n",
              "    <tr>\n",
              "      <th>47625</th>\n",
              "      <td>47626</td>\n",
              "      <td>Large Lemon</td>\n",
              "    </tr>\n",
              "    <tr>\n",
              "      <th>47765</th>\n",
              "      <td>47766</td>\n",
              "      <td>Organic Avocado</td>\n",
              "    </tr>\n",
              "  </tbody>\n",
              "</table>\n",
              "</div>"
            ],
            "text/plain": [
              "       product_id            product_name\n",
              "13175       13176  Bag of Organic Bananas\n",
              "16796       16797            Strawberries\n",
              "21136       21137    Organic Strawberries\n",
              "21902       21903    Organic Baby Spinach\n",
              "24851       24852                  Banana\n",
              "26208       26209                   Limes\n",
              "27844       27845      Organic Whole Milk\n",
              "47208       47209    Organic Hass Avocado\n",
              "47625       47626             Large Lemon\n",
              "47765       47766         Organic Avocado"
            ]
          },
          "metadata": {
            "tags": []
          },
          "execution_count": 17
        }
      ]
    },
    {
      "cell_type": "code",
      "metadata": {
        "id": "bitZKvk_FKCK",
        "colab_type": "code",
        "outputId": "fcdeedde-2e60-43e4-c2e2-78677982eede",
        "colab": {
          "base_uri": "https://localhost:8080/",
          "height": 410
        }
      },
      "source": [
        "# merged columns needed from both datasets\n",
        "# now to figure out how to get full orders using condition?\n",
        "full_list = pd.merge(order_ids, product_ids[condition])\n",
        "print(full_list.shape)\n",
        "full_list.sample(10)"
      ],
      "execution_count": 0,
      "outputs": [
        {
          "output_type": "stream",
          "text": [
            "/usr/local/lib/python3.6/dist-packages/ipykernel_launcher.py:1: UserWarning: Boolean Series key will be reindexed to match DataFrame index.\n",
            "  \"\"\"Entry point for launching an IPython kernel.\n"
          ],
          "name": "stderr"
        },
        {
          "output_type": "stream",
          "text": [
            "(2418314, 4)\n"
          ],
          "name": "stdout"
        },
        {
          "output_type": "execute_result",
          "data": {
            "text/html": [
              "<div>\n",
              "<style scoped>\n",
              "    .dataframe tbody tr th:only-of-type {\n",
              "        vertical-align: middle;\n",
              "    }\n",
              "\n",
              "    .dataframe tbody tr th {\n",
              "        vertical-align: top;\n",
              "    }\n",
              "\n",
              "    .dataframe thead th {\n",
              "        text-align: right;\n",
              "    }\n",
              "</style>\n",
              "<table border=\"1\" class=\"dataframe\">\n",
              "  <thead>\n",
              "    <tr style=\"text-align: right;\">\n",
              "      <th></th>\n",
              "      <th>product_id</th>\n",
              "      <th>order_id</th>\n",
              "      <th>add_to_cart_order</th>\n",
              "      <th>product_name</th>\n",
              "    </tr>\n",
              "  </thead>\n",
              "  <tbody>\n",
              "    <tr>\n",
              "      <th>1308385</th>\n",
              "      <td>24852</td>\n",
              "      <td>3189738</td>\n",
              "      <td>9</td>\n",
              "      <td>Banana</td>\n",
              "    </tr>\n",
              "    <tr>\n",
              "      <th>1114169</th>\n",
              "      <td>24852</td>\n",
              "      <td>1781707</td>\n",
              "      <td>10</td>\n",
              "      <td>Banana</td>\n",
              "    </tr>\n",
              "    <tr>\n",
              "      <th>1940796</th>\n",
              "      <td>27845</td>\n",
              "      <td>3031287</td>\n",
              "      <td>2</td>\n",
              "      <td>Organic Whole Milk</td>\n",
              "    </tr>\n",
              "    <tr>\n",
              "      <th>2287455</th>\n",
              "      <td>26209</td>\n",
              "      <td>384585</td>\n",
              "      <td>14</td>\n",
              "      <td>Limes</td>\n",
              "    </tr>\n",
              "    <tr>\n",
              "      <th>1905501</th>\n",
              "      <td>27845</td>\n",
              "      <td>2146851</td>\n",
              "      <td>1</td>\n",
              "      <td>Organic Whole Milk</td>\n",
              "    </tr>\n",
              "    <tr>\n",
              "      <th>1021417</th>\n",
              "      <td>24852</td>\n",
              "      <td>1112306</td>\n",
              "      <td>1</td>\n",
              "      <td>Banana</td>\n",
              "    </tr>\n",
              "    <tr>\n",
              "      <th>2163475</th>\n",
              "      <td>16797</td>\n",
              "      <td>989485</td>\n",
              "      <td>3</td>\n",
              "      <td>Strawberries</td>\n",
              "    </tr>\n",
              "    <tr>\n",
              "      <th>1459950</th>\n",
              "      <td>47766</td>\n",
              "      <td>1964191</td>\n",
              "      <td>2</td>\n",
              "      <td>Organic Avocado</td>\n",
              "    </tr>\n",
              "    <tr>\n",
              "      <th>214589</th>\n",
              "      <td>21903</td>\n",
              "      <td>3035795</td>\n",
              "      <td>2</td>\n",
              "      <td>Organic Baby Spinach</td>\n",
              "    </tr>\n",
              "    <tr>\n",
              "      <th>1851821</th>\n",
              "      <td>27845</td>\n",
              "      <td>826094</td>\n",
              "      <td>4</td>\n",
              "      <td>Organic Whole Milk</td>\n",
              "    </tr>\n",
              "  </tbody>\n",
              "</table>\n",
              "</div>"
            ],
            "text/plain": [
              "         product_id  order_id  add_to_cart_order          product_name\n",
              "1308385       24852   3189738                  9                Banana\n",
              "1114169       24852   1781707                 10                Banana\n",
              "1940796       27845   3031287                  2    Organic Whole Milk\n",
              "2287455       26209    384585                 14                 Limes\n",
              "1905501       27845   2146851                  1    Organic Whole Milk\n",
              "1021417       24852   1112306                  1                Banana\n",
              "2163475       16797    989485                  3          Strawberries\n",
              "1459950       47766   1964191                  2       Organic Avocado\n",
              "214589        21903   3035795                  2  Organic Baby Spinach\n",
              "1851821       27845    826094                  4    Organic Whole Milk"
            ]
          },
          "metadata": {
            "tags": []
          },
          "execution_count": 58
        }
      ]
    },
    {
      "cell_type": "code",
      "metadata": {
        "id": "Vs-CP78SQrli",
        "colab_type": "code",
        "outputId": "0f68ebda-17f8-4576-c3e9-3afa23138e18",
        "colab": {
          "base_uri": "https://localhost:8080/",
          "height": 238
        }
      },
      "source": [
        "# i dont think this is right\n",
        "# should be a lot more orders\n",
        "# aha! max single ? order of this product?? \n",
        "product_to_cart = full_list.groupby('product_name')[['add_to_cart_order', 'order_id']].max()\n",
        "print(product_to_cart.sample(10))\n",
        "product_to_cart.shape"
      ],
      "execution_count": 0,
      "outputs": [
        {
          "output_type": "stream",
          "text": [
            "                        add_to_cart_order  order_id\n",
            "product_name                                       \n",
            "Organic Baby Spinach                   72   3420998\n",
            "Organic Strawberries                  115   3421069\n",
            "Bag of Organic Bananas                 89   3421068\n",
            "Organic Hass Avocado                   97   3421060\n",
            "Strawberries                           96   3421082\n",
            "Organic Whole Milk                     89   3421080\n",
            "Organic Avocado                        79   3421047\n",
            "Banana                                 78   3421083\n",
            "Large Lemon                            91   3421061\n",
            "Limes                                  98   3421072\n"
          ],
          "name": "stdout"
        },
        {
          "output_type": "execute_result",
          "data": {
            "text/plain": [
              "(10, 2)"
            ]
          },
          "metadata": {
            "tags": []
          },
          "execution_count": 79
        }
      ]
    },
    {
      "cell_type": "code",
      "metadata": {
        "id": "Itfs6o76fwBs",
        "colab_type": "code",
        "outputId": "577087a4-fb68-480c-a1f9-f48de38d71a5",
        "colab": {
          "base_uri": "https://localhost:8080/",
          "height": 221
        }
      },
      "source": [
        "\n",
        "product_to_cart = full_list.groupby('product_name')['order_id'].size()\n",
        "product_to_cart"
      ],
      "execution_count": 0,
      "outputs": [
        {
          "output_type": "execute_result",
          "data": {
            "text/plain": [
              "product_name\n",
              "Bag of Organic Bananas    394930\n",
              "Banana                    491291\n",
              "Large Lemon               160792\n",
              "Limes                     146660\n",
              "Organic Avocado           184224\n",
              "Organic Baby Spinach      251705\n",
              "Organic Hass Avocado      220877\n",
              "Organic Strawberries      275577\n",
              "Organic Whole Milk        142813\n",
              "Strawberries              149445\n",
              "Name: order_id, dtype: int64"
            ]
          },
          "metadata": {
            "tags": []
          },
          "execution_count": 87
        }
      ]
    },
    {
      "cell_type": "code",
      "metadata": {
        "id": "BA_ac5KmhOgJ",
        "colab_type": "code",
        "outputId": "32cb05d2-8172-4cb3-9e5b-7d90776c48e7",
        "colab": {
          "base_uri": "https://localhost:8080/",
          "height": 221
        }
      },
      "source": [
        "# i think i got it\n",
        "# will compare with somebody in the cohort\n",
        "product_to_cart = full_list.groupby('product_name')['add_to_cart_order'].size()\n",
        "product_to_cart"
      ],
      "execution_count": 0,
      "outputs": [
        {
          "output_type": "execute_result",
          "data": {
            "text/plain": [
              "product_name\n",
              "Bag of Organic Bananas    394930\n",
              "Banana                    491291\n",
              "Large Lemon               160792\n",
              "Limes                     146660\n",
              "Organic Avocado           184224\n",
              "Organic Baby Spinach      251705\n",
              "Organic Hass Avocado      220877\n",
              "Organic Strawberries      275577\n",
              "Organic Whole Milk        142813\n",
              "Strawberries              149445\n",
              "Name: add_to_cart_order, dtype: int64"
            ]
          },
          "metadata": {
            "tags": []
          },
          "execution_count": 88
        }
      ]
    },
    {
      "cell_type": "markdown",
      "metadata": {
        "id": "RsiWi4DuXPLP",
        "colab_type": "text"
      },
      "source": [
        "## Reshape Data Section\n",
        "\n",
        "- Replicate the lesson code\n",
        "- Complete the code cells we skipped near the beginning of the notebook\n",
        "- Table 2 --> Tidy\n",
        "- Tidy --> Table 2\n",
        "- Load seaborn's `flights` dataset by running the cell below. Then create a pivot table showing the number of passengers by month and year. Use year for the index and month for the columns. You've done it right if you get 112 passengers for January 1949 and 432 passengers for December 1960."
      ]
    },
    {
      "cell_type": "code",
      "metadata": {
        "id": "fgxulJQq0uLw",
        "colab_type": "code",
        "colab": {}
      },
      "source": [
        "# confused on the Table 2--> Tidy, Tidy-->Table 2 part\n",
        "# do we finish it in the notes or apply that to this data set\n",
        "flights = sns.load_dataset('flights')"
      ],
      "execution_count": 0,
      "outputs": []
    },
    {
      "cell_type": "code",
      "metadata": {
        "id": "1qKc88WI0up-",
        "colab_type": "code",
        "outputId": "611c4e40-09bb-48de-92fd-d501228e98e9",
        "colab": {
          "base_uri": "https://localhost:8080/",
          "height": 204
        }
      },
      "source": [
        "flights.head()"
      ],
      "execution_count": 0,
      "outputs": [
        {
          "output_type": "execute_result",
          "data": {
            "text/html": [
              "<div>\n",
              "<style scoped>\n",
              "    .dataframe tbody tr th:only-of-type {\n",
              "        vertical-align: middle;\n",
              "    }\n",
              "\n",
              "    .dataframe tbody tr th {\n",
              "        vertical-align: top;\n",
              "    }\n",
              "\n",
              "    .dataframe thead th {\n",
              "        text-align: right;\n",
              "    }\n",
              "</style>\n",
              "<table border=\"1\" class=\"dataframe\">\n",
              "  <thead>\n",
              "    <tr style=\"text-align: right;\">\n",
              "      <th></th>\n",
              "      <th>year</th>\n",
              "      <th>month</th>\n",
              "      <th>passengers</th>\n",
              "    </tr>\n",
              "  </thead>\n",
              "  <tbody>\n",
              "    <tr>\n",
              "      <th>0</th>\n",
              "      <td>1949</td>\n",
              "      <td>January</td>\n",
              "      <td>112</td>\n",
              "    </tr>\n",
              "    <tr>\n",
              "      <th>1</th>\n",
              "      <td>1949</td>\n",
              "      <td>February</td>\n",
              "      <td>118</td>\n",
              "    </tr>\n",
              "    <tr>\n",
              "      <th>2</th>\n",
              "      <td>1949</td>\n",
              "      <td>March</td>\n",
              "      <td>132</td>\n",
              "    </tr>\n",
              "    <tr>\n",
              "      <th>3</th>\n",
              "      <td>1949</td>\n",
              "      <td>April</td>\n",
              "      <td>129</td>\n",
              "    </tr>\n",
              "    <tr>\n",
              "      <th>4</th>\n",
              "      <td>1949</td>\n",
              "      <td>May</td>\n",
              "      <td>121</td>\n",
              "    </tr>\n",
              "  </tbody>\n",
              "</table>\n",
              "</div>"
            ],
            "text/plain": [
              "   year     month  passengers\n",
              "0  1949   January         112\n",
              "1  1949  February         118\n",
              "2  1949     March         132\n",
              "3  1949     April         129\n",
              "4  1949       May         121"
            ]
          },
          "metadata": {
            "tags": []
          },
          "execution_count": 92
        }
      ]
    },
    {
      "cell_type": "code",
      "metadata": {
        "id": "JTtvoQ4nmj_4",
        "colab_type": "code",
        "outputId": "16897836-f21e-456c-b7d7-453e6dd7b8c6",
        "colab": {
          "base_uri": "https://localhost:8080/",
          "height": 452
        }
      },
      "source": [
        "pivot_t = flights.pivot_table(index = 'year', columns= 'month', values='passengers')\n",
        "pivot_t"
      ],
      "execution_count": 0,
      "outputs": [
        {
          "output_type": "execute_result",
          "data": {
            "text/html": [
              "<div>\n",
              "<style scoped>\n",
              "    .dataframe tbody tr th:only-of-type {\n",
              "        vertical-align: middle;\n",
              "    }\n",
              "\n",
              "    .dataframe tbody tr th {\n",
              "        vertical-align: top;\n",
              "    }\n",
              "\n",
              "    .dataframe thead th {\n",
              "        text-align: right;\n",
              "    }\n",
              "</style>\n",
              "<table border=\"1\" class=\"dataframe\">\n",
              "  <thead>\n",
              "    <tr style=\"text-align: right;\">\n",
              "      <th>month</th>\n",
              "      <th>January</th>\n",
              "      <th>February</th>\n",
              "      <th>March</th>\n",
              "      <th>April</th>\n",
              "      <th>May</th>\n",
              "      <th>June</th>\n",
              "      <th>July</th>\n",
              "      <th>August</th>\n",
              "      <th>September</th>\n",
              "      <th>October</th>\n",
              "      <th>November</th>\n",
              "      <th>December</th>\n",
              "    </tr>\n",
              "    <tr>\n",
              "      <th>year</th>\n",
              "      <th></th>\n",
              "      <th></th>\n",
              "      <th></th>\n",
              "      <th></th>\n",
              "      <th></th>\n",
              "      <th></th>\n",
              "      <th></th>\n",
              "      <th></th>\n",
              "      <th></th>\n",
              "      <th></th>\n",
              "      <th></th>\n",
              "      <th></th>\n",
              "    </tr>\n",
              "  </thead>\n",
              "  <tbody>\n",
              "    <tr>\n",
              "      <th>1949</th>\n",
              "      <td>112</td>\n",
              "      <td>118</td>\n",
              "      <td>132</td>\n",
              "      <td>129</td>\n",
              "      <td>121</td>\n",
              "      <td>135</td>\n",
              "      <td>148</td>\n",
              "      <td>148</td>\n",
              "      <td>136</td>\n",
              "      <td>119</td>\n",
              "      <td>104</td>\n",
              "      <td>118</td>\n",
              "    </tr>\n",
              "    <tr>\n",
              "      <th>1950</th>\n",
              "      <td>115</td>\n",
              "      <td>126</td>\n",
              "      <td>141</td>\n",
              "      <td>135</td>\n",
              "      <td>125</td>\n",
              "      <td>149</td>\n",
              "      <td>170</td>\n",
              "      <td>170</td>\n",
              "      <td>158</td>\n",
              "      <td>133</td>\n",
              "      <td>114</td>\n",
              "      <td>140</td>\n",
              "    </tr>\n",
              "    <tr>\n",
              "      <th>1951</th>\n",
              "      <td>145</td>\n",
              "      <td>150</td>\n",
              "      <td>178</td>\n",
              "      <td>163</td>\n",
              "      <td>172</td>\n",
              "      <td>178</td>\n",
              "      <td>199</td>\n",
              "      <td>199</td>\n",
              "      <td>184</td>\n",
              "      <td>162</td>\n",
              "      <td>146</td>\n",
              "      <td>166</td>\n",
              "    </tr>\n",
              "    <tr>\n",
              "      <th>1952</th>\n",
              "      <td>171</td>\n",
              "      <td>180</td>\n",
              "      <td>193</td>\n",
              "      <td>181</td>\n",
              "      <td>183</td>\n",
              "      <td>218</td>\n",
              "      <td>230</td>\n",
              "      <td>242</td>\n",
              "      <td>209</td>\n",
              "      <td>191</td>\n",
              "      <td>172</td>\n",
              "      <td>194</td>\n",
              "    </tr>\n",
              "    <tr>\n",
              "      <th>1953</th>\n",
              "      <td>196</td>\n",
              "      <td>196</td>\n",
              "      <td>236</td>\n",
              "      <td>235</td>\n",
              "      <td>229</td>\n",
              "      <td>243</td>\n",
              "      <td>264</td>\n",
              "      <td>272</td>\n",
              "      <td>237</td>\n",
              "      <td>211</td>\n",
              "      <td>180</td>\n",
              "      <td>201</td>\n",
              "    </tr>\n",
              "    <tr>\n",
              "      <th>1954</th>\n",
              "      <td>204</td>\n",
              "      <td>188</td>\n",
              "      <td>235</td>\n",
              "      <td>227</td>\n",
              "      <td>234</td>\n",
              "      <td>264</td>\n",
              "      <td>302</td>\n",
              "      <td>293</td>\n",
              "      <td>259</td>\n",
              "      <td>229</td>\n",
              "      <td>203</td>\n",
              "      <td>229</td>\n",
              "    </tr>\n",
              "    <tr>\n",
              "      <th>1955</th>\n",
              "      <td>242</td>\n",
              "      <td>233</td>\n",
              "      <td>267</td>\n",
              "      <td>269</td>\n",
              "      <td>270</td>\n",
              "      <td>315</td>\n",
              "      <td>364</td>\n",
              "      <td>347</td>\n",
              "      <td>312</td>\n",
              "      <td>274</td>\n",
              "      <td>237</td>\n",
              "      <td>278</td>\n",
              "    </tr>\n",
              "    <tr>\n",
              "      <th>1956</th>\n",
              "      <td>284</td>\n",
              "      <td>277</td>\n",
              "      <td>317</td>\n",
              "      <td>313</td>\n",
              "      <td>318</td>\n",
              "      <td>374</td>\n",
              "      <td>413</td>\n",
              "      <td>405</td>\n",
              "      <td>355</td>\n",
              "      <td>306</td>\n",
              "      <td>271</td>\n",
              "      <td>306</td>\n",
              "    </tr>\n",
              "    <tr>\n",
              "      <th>1957</th>\n",
              "      <td>315</td>\n",
              "      <td>301</td>\n",
              "      <td>356</td>\n",
              "      <td>348</td>\n",
              "      <td>355</td>\n",
              "      <td>422</td>\n",
              "      <td>465</td>\n",
              "      <td>467</td>\n",
              "      <td>404</td>\n",
              "      <td>347</td>\n",
              "      <td>305</td>\n",
              "      <td>336</td>\n",
              "    </tr>\n",
              "    <tr>\n",
              "      <th>1958</th>\n",
              "      <td>340</td>\n",
              "      <td>318</td>\n",
              "      <td>362</td>\n",
              "      <td>348</td>\n",
              "      <td>363</td>\n",
              "      <td>435</td>\n",
              "      <td>491</td>\n",
              "      <td>505</td>\n",
              "      <td>404</td>\n",
              "      <td>359</td>\n",
              "      <td>310</td>\n",
              "      <td>337</td>\n",
              "    </tr>\n",
              "    <tr>\n",
              "      <th>1959</th>\n",
              "      <td>360</td>\n",
              "      <td>342</td>\n",
              "      <td>406</td>\n",
              "      <td>396</td>\n",
              "      <td>420</td>\n",
              "      <td>472</td>\n",
              "      <td>548</td>\n",
              "      <td>559</td>\n",
              "      <td>463</td>\n",
              "      <td>407</td>\n",
              "      <td>362</td>\n",
              "      <td>405</td>\n",
              "    </tr>\n",
              "    <tr>\n",
              "      <th>1960</th>\n",
              "      <td>417</td>\n",
              "      <td>391</td>\n",
              "      <td>419</td>\n",
              "      <td>461</td>\n",
              "      <td>472</td>\n",
              "      <td>535</td>\n",
              "      <td>622</td>\n",
              "      <td>606</td>\n",
              "      <td>508</td>\n",
              "      <td>461</td>\n",
              "      <td>390</td>\n",
              "      <td>432</td>\n",
              "    </tr>\n",
              "  </tbody>\n",
              "</table>\n",
              "</div>"
            ],
            "text/plain": [
              "month  January  February  March  April  ...  September  October  November  December\n",
              "year                                    ...                                        \n",
              "1949       112       118    132    129  ...        136      119       104       118\n",
              "1950       115       126    141    135  ...        158      133       114       140\n",
              "1951       145       150    178    163  ...        184      162       146       166\n",
              "1952       171       180    193    181  ...        209      191       172       194\n",
              "1953       196       196    236    235  ...        237      211       180       201\n",
              "1954       204       188    235    227  ...        259      229       203       229\n",
              "1955       242       233    267    269  ...        312      274       237       278\n",
              "1956       284       277    317    313  ...        355      306       271       306\n",
              "1957       315       301    356    348  ...        404      347       305       336\n",
              "1958       340       318    362    348  ...        404      359       310       337\n",
              "1959       360       342    406    396  ...        463      407       362       405\n",
              "1960       417       391    419    461  ...        508      461       390       432\n",
              "\n",
              "[12 rows x 12 columns]"
            ]
          },
          "metadata": {
            "tags": []
          },
          "execution_count": 96
        }
      ]
    },
    {
      "cell_type": "code",
      "metadata": {
        "id": "iWQPYi0gmj2O",
        "colab_type": "code",
        "colab": {}
      },
      "source": [
        ""
      ],
      "execution_count": 0,
      "outputs": []
    },
    {
      "cell_type": "code",
      "metadata": {
        "id": "ShtJrabCmjyI",
        "colab_type": "code",
        "colab": {}
      },
      "source": [
        ""
      ],
      "execution_count": 0,
      "outputs": []
    },
    {
      "cell_type": "markdown",
      "metadata": {
        "id": "mnOuqL9K0dqh",
        "colab_type": "text"
      },
      "source": [
        "## Join Data Stretch Challenge\n",
        "\n",
        "The [Instacart blog post](https://tech.instacart.com/3-million-instacart-orders-open-sourced-d40d29ead6f2) has a visualization of \"**Popular products** purchased earliest in the day (green) and latest in the day (red).\" \n",
        "\n",
        "The post says,\n",
        "\n",
        "> \"We can also see the time of day that users purchase specific products.\n",
        "\n",
        "> Healthier snacks and staples tend to be purchased earlier in the day, whereas ice cream (especially Half Baked and The Tonight Dough) are far more popular when customers are ordering in the evening.\n",
        "\n",
        "> **In fact, of the top 25 latest ordered products, the first 24 are ice cream! The last one, of course, is a frozen pizza.**\"\n",
        "\n",
        "Your challenge is to reproduce the list of the top 25 latest ordered popular products.\n",
        "\n",
        "We'll define \"popular products\" as products with more than 2,900 orders.\n",
        "\n"
      ]
    },
    {
      "cell_type": "code",
      "metadata": {
        "id": "B-QNMrVkYap4",
        "colab_type": "code",
        "colab": {}
      },
      "source": [
        "##### YOUR CODE HERE #####"
      ],
      "execution_count": 0,
      "outputs": []
    },
    {
      "cell_type": "markdown",
      "metadata": {
        "id": "Ij8S60q0YXxo",
        "colab_type": "text"
      },
      "source": [
        "## Reshape Data Stretch Challenge\n",
        "\n",
        "_Try whatever sounds most interesting to you!_\n",
        "\n",
        "- Replicate more of Instacart's visualization showing \"Hour of Day Ordered\" vs \"Percent of Orders by Product\"\n",
        "- Replicate parts of the other visualization from [Instacart's blog post](https://tech.instacart.com/3-million-instacart-orders-open-sourced-d40d29ead6f2), showing \"Number of Purchases\" vs \"Percent Reorder Purchases\"\n",
        "- Get the most recent order for each user in Instacart's dataset. This is a useful baseline when [predicting a user's next order](https://www.kaggle.com/c/instacart-market-basket-analysis)\n",
        "- Replicate parts of the blog post linked at the top of this notebook: [Modern Pandas, Part 5: Tidy Data](https://tomaugspurger.github.io/modern-5-tidy.html)"
      ]
    },
    {
      "cell_type": "code",
      "metadata": {
        "id": "_d6IA2R0YXFY",
        "colab_type": "code",
        "colab": {}
      },
      "source": [
        "##### YOUR CODE HERE #####"
      ],
      "execution_count": 0,
      "outputs": []
    }
  ]
}